{
 "cells": [
  {
   "cell_type": "code",
   "execution_count": 457,
   "id": "c5ebf747-5a78-4dd8-a45c-ed41790bfe0a",
   "metadata": {},
   "outputs": [],
   "source": [
    "import numpy as np\n",
    "import pandas as pd"
   ]
  },
  {
   "cell_type": "markdown",
   "id": "bc00f3ae-678c-408e-915c-770fe0e0dec6",
   "metadata": {},
   "source": [
    "### **Load dataset**"
   ]
  },
  {
   "cell_type": "code",
   "execution_count": 459,
   "id": "5fb3ac70-9e3c-491b-ba13-a938da2e7b37",
   "metadata": {},
   "outputs": [
    {
     "data": {
      "text/html": [
       "<div>\n",
       "<style scoped>\n",
       "    .dataframe tbody tr th:only-of-type {\n",
       "        vertical-align: middle;\n",
       "    }\n",
       "\n",
       "    .dataframe tbody tr th {\n",
       "        vertical-align: top;\n",
       "    }\n",
       "\n",
       "    .dataframe thead th {\n",
       "        text-align: right;\n",
       "    }\n",
       "</style>\n",
       "<table border=\"1\" class=\"dataframe\">\n",
       "  <thead>\n",
       "    <tr style=\"text-align: right;\">\n",
       "      <th></th>\n",
       "      <th>Unnamed: 0</th>\n",
       "      <th>ID</th>\n",
       "      <th>Name</th>\n",
       "      <th>Age</th>\n",
       "      <th>Email</th>\n",
       "      <th>Join Date</th>\n",
       "      <th>Salary</th>\n",
       "      <th>Department</th>\n",
       "    </tr>\n",
       "  </thead>\n",
       "  <tbody>\n",
       "    <tr>\n",
       "      <th>0</th>\n",
       "      <td>0</td>\n",
       "      <td>1e407ff9-6255-489d-a0de-34135d4f74bd</td>\n",
       "      <td>Hunter Thomas</td>\n",
       "      <td>25.0</td>\n",
       "      <td>xlopez@hotmail.com</td>\n",
       "      <td>NaN</td>\n",
       "      <td>88552.0</td>\n",
       "      <td>Sales</td>\n",
       "    </tr>\n",
       "    <tr>\n",
       "      <th>1</th>\n",
       "      <td>1</td>\n",
       "      <td>379f55b8-87d5-4739-a146-7400b78c24d1</td>\n",
       "      <td>Jeremy Irwin</td>\n",
       "      <td>90.0</td>\n",
       "      <td>Jillian Jenkins</td>\n",
       "      <td>2022-07-07</td>\n",
       "      <td>139227.0</td>\n",
       "      <td>NaN</td>\n",
       "    </tr>\n",
       "    <tr>\n",
       "      <th>2</th>\n",
       "      <td>2</td>\n",
       "      <td>18261368-dfa1-47f0-afc6-bddf45926b07</td>\n",
       "      <td>Jennifer Hammondquickly</td>\n",
       "      <td>66.0</td>\n",
       "      <td>jscottgreen.biz</td>\n",
       "      <td>2023-11-21</td>\n",
       "      <td>65550.0</td>\n",
       "      <td>Engineering</td>\n",
       "    </tr>\n",
       "    <tr>\n",
       "      <th>3</th>\n",
       "      <td>3</td>\n",
       "      <td>ae7cf7cf-17cf-4c8b-9c44-4f61a9a238e5</td>\n",
       "      <td>Sydney Taylorso</td>\n",
       "      <td>39.0</td>\n",
       "      <td>luke56gonzalez.com</td>\n",
       "      <td>2021-11-05</td>\n",
       "      <td>139932.0</td>\n",
       "      <td>SupportJ</td>\n",
       "    </tr>\n",
       "    <tr>\n",
       "      <th>4</th>\n",
       "      <td>4</td>\n",
       "      <td>14ed3e6a-e0f5-4bbe-8d93-8665267f5c90</td>\n",
       "      <td>Julia Lee</td>\n",
       "      <td>71.0</td>\n",
       "      <td>figueroakayla@yahoo.com</td>\n",
       "      <td>NaN</td>\n",
       "      <td>143456.0</td>\n",
       "      <td>Marketing</td>\n",
       "    </tr>\n",
       "  </tbody>\n",
       "</table>\n",
       "</div>"
      ],
      "text/plain": [
       "   Unnamed: 0                                    ID                     Name  \\\n",
       "0           0  1e407ff9-6255-489d-a0de-34135d4f74bd            Hunter Thomas   \n",
       "1           1  379f55b8-87d5-4739-a146-7400b78c24d1             Jeremy Irwin   \n",
       "2           2  18261368-dfa1-47f0-afc6-bddf45926b07  Jennifer Hammondquickly   \n",
       "3           3  ae7cf7cf-17cf-4c8b-9c44-4f61a9a238e5          Sydney Taylorso   \n",
       "4           4  14ed3e6a-e0f5-4bbe-8d93-8665267f5c90                Julia Lee   \n",
       "\n",
       "    Age                    Email   Join Date    Salary   Department  \n",
       "0  25.0       xlopez@hotmail.com         NaN   88552.0        Sales  \n",
       "1  90.0          Jillian Jenkins  2022-07-07  139227.0          NaN  \n",
       "2  66.0          jscottgreen.biz  2023-11-21   65550.0  Engineering  \n",
       "3  39.0       luke56gonzalez.com  2021-11-05  139932.0     SupportJ  \n",
       "4  71.0  figueroakayla@yahoo.com         NaN  143456.0    Marketing  "
      ]
     },
     "execution_count": 459,
     "metadata": {},
     "output_type": "execute_result"
    }
   ],
   "source": [
    "df=pd.read_csv('messy_data.csv')\n",
    "df.head()"
   ]
  },
  {
   "cell_type": "code",
   "execution_count": 460,
   "id": "86786fa8-651d-40b2-aa61-6c48989e4243",
   "metadata": {},
   "outputs": [
    {
     "data": {
      "text/html": [
       "<div>\n",
       "<style scoped>\n",
       "    .dataframe tbody tr th:only-of-type {\n",
       "        vertical-align: middle;\n",
       "    }\n",
       "\n",
       "    .dataframe tbody tr th {\n",
       "        vertical-align: top;\n",
       "    }\n",
       "\n",
       "    .dataframe thead th {\n",
       "        text-align: right;\n",
       "    }\n",
       "</style>\n",
       "<table border=\"1\" class=\"dataframe\">\n",
       "  <thead>\n",
       "    <tr style=\"text-align: right;\">\n",
       "      <th></th>\n",
       "      <th>Unnamed: 0</th>\n",
       "      <th>ID</th>\n",
       "      <th>Name</th>\n",
       "      <th>Age</th>\n",
       "      <th>Email</th>\n",
       "      <th>Join Date</th>\n",
       "      <th>Salary</th>\n",
       "      <th>Department</th>\n",
       "    </tr>\n",
       "  </thead>\n",
       "  <tbody>\n",
       "    <tr>\n",
       "      <th>10995</th>\n",
       "      <td>6523</td>\n",
       "      <td>07c223be-03e6-4f70-a2b5-86df778cc61a</td>\n",
       "      <td>NaN</td>\n",
       "      <td>NaN</td>\n",
       "      <td>NaN</td>\n",
       "      <td>NaN</td>\n",
       "      <td>NaN</td>\n",
       "      <td>NaN</td>\n",
       "    </tr>\n",
       "    <tr>\n",
       "      <th>10996</th>\n",
       "      <td>9785</td>\n",
       "      <td>da8a6bbc-5026-4630-848d-f64e80dac56c</td>\n",
       "      <td>Steven Armstrong</td>\n",
       "      <td>38.0</td>\n",
       "      <td>molly89gmail.com</td>\n",
       "      <td>2021-06-24</td>\n",
       "      <td>NaN</td>\n",
       "      <td>Sales</td>\n",
       "    </tr>\n",
       "    <tr>\n",
       "      <th>10997</th>\n",
       "      <td>7826</td>\n",
       "      <td>ed19c966-d6d8-4047-b410-b6e595a39340</td>\n",
       "      <td>Stephanie Riossell</td>\n",
       "      <td>NaN</td>\n",
       "      <td>robert96@pollard-frye.com</td>\n",
       "      <td>15/08/2006</td>\n",
       "      <td>122609.594149</td>\n",
       "      <td>HR</td>\n",
       "    </tr>\n",
       "    <tr>\n",
       "      <th>10998</th>\n",
       "      <td>7648</td>\n",
       "      <td>783b36b4-d09f-46c9-8a52-7ff96b80863e</td>\n",
       "      <td>Bonnie Benitez</td>\n",
       "      <td>37.0</td>\n",
       "      <td>roypark@warren.net</td>\n",
       "      <td>2020-10-09</td>\n",
       "      <td>147322.005171</td>\n",
       "      <td>Support</td>\n",
       "    </tr>\n",
       "    <tr>\n",
       "      <th>10999</th>\n",
       "      <td>7107</td>\n",
       "      <td>fc25a38a-5747-46eb-b6d3-7173f8255809</td>\n",
       "      <td>Caroline Ochoa</td>\n",
       "      <td>53.0</td>\n",
       "      <td>cdavis@hodges.com</td>\n",
       "      <td>2023-08-10</td>\n",
       "      <td>149224.000000</td>\n",
       "      <td>Support</td>\n",
       "    </tr>\n",
       "  </tbody>\n",
       "</table>\n",
       "</div>"
      ],
      "text/plain": [
       "       Unnamed: 0                                    ID                Name  \\\n",
       "10995        6523  07c223be-03e6-4f70-a2b5-86df778cc61a                 NaN   \n",
       "10996        9785  da8a6bbc-5026-4630-848d-f64e80dac56c    Steven Armstrong   \n",
       "10997        7826  ed19c966-d6d8-4047-b410-b6e595a39340  Stephanie Riossell   \n",
       "10998        7648  783b36b4-d09f-46c9-8a52-7ff96b80863e      Bonnie Benitez   \n",
       "10999        7107  fc25a38a-5747-46eb-b6d3-7173f8255809      Caroline Ochoa   \n",
       "\n",
       "        Age                      Email   Join Date         Salary Department  \n",
       "10995   NaN                        NaN         NaN            NaN        NaN  \n",
       "10996  38.0           molly89gmail.com  2021-06-24            NaN      Sales  \n",
       "10997   NaN  robert96@pollard-frye.com  15/08/2006  122609.594149         HR  \n",
       "10998  37.0         roypark@warren.net  2020-10-09  147322.005171    Support  \n",
       "10999  53.0          cdavis@hodges.com  2023-08-10  149224.000000    Support  "
      ]
     },
     "execution_count": 460,
     "metadata": {},
     "output_type": "execute_result"
    }
   ],
   "source": [
    "#check the last 5 rows\n",
    "df.tail()"
   ]
  },
  {
   "cell_type": "code",
   "execution_count": 461,
   "id": "d28b3838-41c8-4aeb-b94c-7ccecc9b8447",
   "metadata": {},
   "outputs": [
    {
     "name": "stdout",
     "output_type": "stream",
     "text": [
      "<class 'pandas.core.frame.DataFrame'>\n",
      "RangeIndex: 11000 entries, 0 to 10999\n",
      "Data columns (total 8 columns):\n",
      " #   Column      Non-Null Count  Dtype  \n",
      "---  ------      --------------  -----  \n",
      " 0   Unnamed: 0  11000 non-null  int64  \n",
      " 1   ID          11000 non-null  object \n",
      " 2   Name        8667 non-null   object \n",
      " 3   Age         9253 non-null   float64\n",
      " 4   Email       9731 non-null   object \n",
      " 5   Join Date   8808 non-null   object \n",
      " 6   Salary      8761 non-null   float64\n",
      " 7   Department  8745 non-null   object \n",
      "dtypes: float64(2), int64(1), object(5)\n",
      "memory usage: 687.6+ KB\n"
     ]
    }
   ],
   "source": [
    "#check basc information about the dataset\n",
    "df.info()"
   ]
  },
  {
   "cell_type": "code",
   "execution_count": 462,
   "id": "deca11ba-cbb8-4ef0-90d6-5acd7acd4eca",
   "metadata": {},
   "outputs": [
    {
     "data": {
      "text/html": [
       "<div>\n",
       "<style scoped>\n",
       "    .dataframe tbody tr th:only-of-type {\n",
       "        vertical-align: middle;\n",
       "    }\n",
       "\n",
       "    .dataframe tbody tr th {\n",
       "        vertical-align: top;\n",
       "    }\n",
       "\n",
       "    .dataframe thead th {\n",
       "        text-align: right;\n",
       "    }\n",
       "</style>\n",
       "<table border=\"1\" class=\"dataframe\">\n",
       "  <thead>\n",
       "    <tr style=\"text-align: right;\">\n",
       "      <th></th>\n",
       "      <th>Unnamed: 0</th>\n",
       "      <th>Age</th>\n",
       "      <th>Salary</th>\n",
       "    </tr>\n",
       "  </thead>\n",
       "  <tbody>\n",
       "    <tr>\n",
       "      <th>count</th>\n",
       "      <td>11000.000000</td>\n",
       "      <td>9253.000000</td>\n",
       "      <td>8761.000000</td>\n",
       "    </tr>\n",
       "    <tr>\n",
       "      <th>mean</th>\n",
       "      <td>5012.947818</td>\n",
       "      <td>54.162650</td>\n",
       "      <td>89886.585012</td>\n",
       "    </tr>\n",
       "    <tr>\n",
       "      <th>std</th>\n",
       "      <td>2884.739158</td>\n",
       "      <td>21.072919</td>\n",
       "      <td>34896.320117</td>\n",
       "    </tr>\n",
       "    <tr>\n",
       "      <th>min</th>\n",
       "      <td>0.000000</td>\n",
       "      <td>18.000000</td>\n",
       "      <td>24655.136613</td>\n",
       "    </tr>\n",
       "    <tr>\n",
       "      <th>25%</th>\n",
       "      <td>2509.750000</td>\n",
       "      <td>36.000000</td>\n",
       "      <td>59723.844874</td>\n",
       "    </tr>\n",
       "    <tr>\n",
       "      <th>50%</th>\n",
       "      <td>5024.500000</td>\n",
       "      <td>54.000000</td>\n",
       "      <td>89241.000000</td>\n",
       "    </tr>\n",
       "    <tr>\n",
       "      <th>75%</th>\n",
       "      <td>7510.250000</td>\n",
       "      <td>72.000000</td>\n",
       "      <td>119491.000000</td>\n",
       "    </tr>\n",
       "    <tr>\n",
       "      <th>max</th>\n",
       "      <td>9999.000000</td>\n",
       "      <td>90.000000</td>\n",
       "      <td>176156.206747</td>\n",
       "    </tr>\n",
       "  </tbody>\n",
       "</table>\n",
       "</div>"
      ],
      "text/plain": [
       "         Unnamed: 0          Age         Salary\n",
       "count  11000.000000  9253.000000    8761.000000\n",
       "mean    5012.947818    54.162650   89886.585012\n",
       "std     2884.739158    21.072919   34896.320117\n",
       "min        0.000000    18.000000   24655.136613\n",
       "25%     2509.750000    36.000000   59723.844874\n",
       "50%     5024.500000    54.000000   89241.000000\n",
       "75%     7510.250000    72.000000  119491.000000\n",
       "max     9999.000000    90.000000  176156.206747"
      ]
     },
     "execution_count": 462,
     "metadata": {},
     "output_type": "execute_result"
    }
   ],
   "source": [
    "#check for basic statistics of numeric columns\n",
    "df.describe()"
   ]
  },
  {
   "cell_type": "code",
   "execution_count": 463,
   "id": "6295e43b-a76c-45d8-b33d-1ab1c1ba9c60",
   "metadata": {},
   "outputs": [
    {
     "data": {
      "text/plain": [
       "Unnamed: 0       0\n",
       "ID               0\n",
       "Name          2333\n",
       "Age           1747\n",
       "Email         1269\n",
       "Join Date     2192\n",
       "Salary        2239\n",
       "Department    2255\n",
       "dtype: int64"
      ]
     },
     "execution_count": 463,
     "metadata": {},
     "output_type": "execute_result"
    }
   ],
   "source": [
    "#identify columns with missing values\n",
    "df.isnull().sum()"
   ]
  },
  {
   "cell_type": "code",
   "execution_count": 464,
   "id": "60f3e90a-38d8-4b8c-8469-883c56a121c7",
   "metadata": {},
   "outputs": [
    {
     "data": {
      "text/plain": [
       "Unnamed: 0     0.000000\n",
       "ID             0.000000\n",
       "Name          21.209091\n",
       "Age           15.881818\n",
       "Email         11.536364\n",
       "Join Date     19.927273\n",
       "Salary        20.354545\n",
       "Department    20.500000\n",
       "dtype: float64"
      ]
     },
     "execution_count": 464,
     "metadata": {},
     "output_type": "execute_result"
    }
   ],
   "source": [
    "#percentage of mssing values\n",
    "df.isnull().sum()*100/len(df)"
   ]
  },
  {
   "cell_type": "code",
   "execution_count": 465,
   "id": "bd67485d-f11e-4a1c-90ee-d8872657f372",
   "metadata": {},
   "outputs": [
    {
     "data": {
      "text/plain": [
       "291"
      ]
     },
     "execution_count": 465,
     "metadata": {},
     "output_type": "execute_result"
    }
   ],
   "source": [
    "#check for duplicates\n",
    "df.duplicated().sum()"
   ]
  },
  {
   "cell_type": "code",
   "execution_count": 466,
   "id": "d09aad1d-2322-47ef-b5ba-9721fc81597c",
   "metadata": {},
   "outputs": [
    {
     "data": {
      "text/plain": [
       "array(['Hunter Thomas', 'Jeremy Irwin', 'Jennifer Hammondquickly', ...,\n",
       "       'Shelley Hopkinslive', 'Steven Armstrong', 'Stephanie Riossell'],\n",
       "      dtype=object)"
      ]
     },
     "execution_count": 466,
     "metadata": {},
     "output_type": "execute_result"
    }
   ],
   "source": [
    "#check value counts in each column\n",
    "df['Name'].unique()"
   ]
  },
  {
   "cell_type": "code",
   "execution_count": 467,
   "id": "ac02d85f-2273-4cc2-a941-5a5a67949894",
   "metadata": {},
   "outputs": [
    {
     "data": {
      "text/plain": [
       "Age\n",
       "59.0    147\n",
       "49.0    145\n",
       "29.0    144\n",
       "65.0    143\n",
       "22.0    142\n",
       "       ... \n",
       "30.0    111\n",
       "51.0    111\n",
       "19.0    103\n",
       "71.0     98\n",
       "75.0     93\n",
       "Name: count, Length: 73, dtype: int64"
      ]
     },
     "execution_count": 467,
     "metadata": {},
     "output_type": "execute_result"
    }
   ],
   "source": [
    "df['Age'].value_counts()"
   ]
  },
  {
   "cell_type": "code",
   "execution_count": 468,
   "id": "f45d86ff-b08e-470d-ac2c-0ac440e34d8b",
   "metadata": {},
   "outputs": [
    {
     "data": {
      "text/plain": [
       "array(['xlopez@hotmail.com', 'Jillian Jenkins', 'jscottgreen.biz', ...,\n",
       "       'weavermary@yahoo.com', 'kingcharles@hotmail.com',\n",
       "       'molly89gmail.com'], dtype=object)"
      ]
     },
     "execution_count": 468,
     "metadata": {},
     "output_type": "execute_result"
    }
   ],
   "source": [
    "df['Email'].unique()"
   ]
  },
  {
   "cell_type": "code",
   "execution_count": 469,
   "id": "24f4cd37-106d-4b5e-9f11-5b43819b9e21",
   "metadata": {},
   "outputs": [
    {
     "data": {
      "text/plain": [
       "array([nan, '2022-07-07', '2023-11-21', ..., '01/05/1982', '25/12/1992',\n",
       "       '15/08/2006'], dtype=object)"
      ]
     },
     "execution_count": 469,
     "metadata": {},
     "output_type": "execute_result"
    }
   ],
   "source": [
    "df['Join Date'].unique()"
   ]
  },
  {
   "cell_type": "code",
   "execution_count": 470,
   "id": "b8e678ae-73f4-46c5-8397-7baaa3989144",
   "metadata": {},
   "outputs": [
    {
     "data": {
      "text/plain": [
       "Salary\n",
       "110190.000000    4\n",
       "96708.000000     4\n",
       "104974.000000    3\n",
       "99799.000000     3\n",
       "40296.000000     3\n",
       "                ..\n",
       "130228.000000    1\n",
       "148878.000000    1\n",
       "78353.000000     1\n",
       "57839.000000     1\n",
       "147322.005171    1\n",
       "Name: count, Length: 8122, dtype: int64"
      ]
     },
     "execution_count": 470,
     "metadata": {},
     "output_type": "execute_result"
    }
   ],
   "source": [
    "df['Salary'].value_counts()"
   ]
  },
  {
   "cell_type": "code",
   "execution_count": 471,
   "id": "892a1aa5-3c51-4a7d-b3ef-67ea1af45b55",
   "metadata": {},
   "outputs": [
    {
     "data": {
      "text/plain": [
       "array(['Sales', nan, 'Engineering', 'SupportJ', 'Marketing', 'SupportE',\n",
       "       'HR', 'Support', 'HRC', 'SalesA', 'SalesX', 'Supportu',\n",
       "       'Engineeringi', 'MarketingR', 'Salesw', 'SalesK', 'MarketingU',\n",
       "       'Salesi', 'HRa', 'SalesG', 'Supporty', 'SalesN', 'Marketinge',\n",
       "       'Marketingv', 'HRv', 'SalesM', 'EngineeringL', 'MarketingQ', 'HRs',\n",
       "       'SalesW', 'Supportj', 'Salesd', 'Marketingu', 'Engineeringj',\n",
       "       'SalesU', 'HRO', 'MarketingH', 'Salesj', 'Saleso', 'SalesZ',\n",
       "       'Engineeringe', 'MarketingF', 'Marketingr', 'Engineeringm', 'HRW',\n",
       "       'HRt', 'HRz', 'Engineeringp', 'HRF', 'EngineeringS', 'SupportW',\n",
       "       'EngineeringT', 'SalesC', 'SalesB', 'SupportC', 'SalesY',\n",
       "       'Marketingn', 'EngineeringK', 'Marketingz', 'HRo', 'SupportB',\n",
       "       'HRi', 'Salest', 'Supportg', 'Supporta', 'HRn', 'SupportQ',\n",
       "       'Salesr', 'EngineeringG', 'Supportm', 'Supporto', 'EngineeringH',\n",
       "       'Marketingw', 'EngineeringM', 'Supportz', 'HRr', 'Salesy',\n",
       "       'MarketingD', 'HRE', 'Marketingm', 'HRw', 'Marketingo', 'Supportk',\n",
       "       'MarketingN', 'SupportS', 'EngineeringD', 'Marketingp', 'Salesl',\n",
       "       'MarketingI', 'MarketingL', 'SupportT', 'Engineeringn',\n",
       "       'MarketingO', 'SalesF', 'Salesz', 'Marketingt', 'Engineeringv',\n",
       "       'HRL', 'HRI', 'EngineeringR', 'HRD', 'Marketingk', 'HRQ', 'Salese',\n",
       "       'Saless', 'Marketingi', 'Salesn', 'Engineeringl', 'SalesE', 'HRy',\n",
       "       'EngineeringE', 'SalesD', 'HRm', 'Engineerings', 'SupportF',\n",
       "       'Marketingy', 'MarketingG', 'SalesI', 'Salesu', 'Engineeringg',\n",
       "       'EngineeringQ', 'MarketingE', 'SupportA', 'Engineeringq',\n",
       "       'EngineeringA', 'Supporte', 'Engineeringu', 'EngineeringO',\n",
       "       'SalesS', 'Supportv', 'HRK', 'Engineeringb', 'SalesV', 'HRT',\n",
       "       'SupportY', 'SalesQ', 'MarketingX', 'Supportp', 'Marketingf',\n",
       "       'HRU', 'HRp', 'Salesq', 'HRg', 'Marketingl', 'EngineeringV',\n",
       "       'Engineeringt', 'SupportO', 'SalesJ', 'EngineeringX',\n",
       "       'Engineeringc', 'Marketingh', 'EngineeringC', 'Engineeringz',\n",
       "       'HRP', 'Salesv', 'Engineeringk', 'SupportH', 'Salesk', 'Supporth',\n",
       "       'SupportZ', 'Supportq', 'Supportr', 'HRJ', 'Supportd', 'HRZ',\n",
       "       'MarketingZ', 'Salesc', 'EngineeringJ', 'Engineeringx', 'SalesR',\n",
       "       'Engineeringh', 'Supportl', 'SupportX', 'Marketingg', 'SalesH',\n",
       "       'MarketingC', 'SupportV', 'HRq', 'Marketingb', 'Supporti',\n",
       "       'Supportw', 'SupportL', 'Marketings', 'Marketingq', 'HRM',\n",
       "       'Supportt', 'HRX', 'HRl', 'EngineeringF', 'SupportP', 'HRf',\n",
       "       'MarketingB', 'Engineeringf', 'EngineeringW', 'HRB',\n",
       "       'Engineeringy', 'Marketinga', 'HRj', 'HRd', 'SupportI', 'HRA',\n",
       "       'Marketingj', 'MarketingV', 'EngineeringI', 'HRY', 'EngineeringZ',\n",
       "       'MarketingY', 'Marketingx', 'HRH', 'HRN', 'MarketingJ',\n",
       "       'MarketingW', 'HRh', 'Supportb', 'SalesT', 'Supportn',\n",
       "       'Engineeringa', 'SupportG', 'SalesO', 'SupportK', 'Engineeringd',\n",
       "       'HRk', 'Marketingd', 'MarketingS', 'MarketingT', 'HRR',\n",
       "       'Engineeringw', 'Salesg', 'HRb', 'SupportN', 'Marketingc',\n",
       "       'EngineeringU', 'Supportx', 'Salesp', 'HRu', 'MarketingK',\n",
       "       'SalesL', 'Salesx', 'SupportD', 'Supports', 'Salesm',\n",
       "       'Engineeringr', 'HRe', 'SupportM', 'MarketingM', 'SupportR',\n",
       "       'SupportU', 'Salesa', 'Salesf', 'Supportf', 'Salesh', 'Salesb',\n",
       "       'EngineeringB', 'HRG', 'Engineeringo', 'EngineeringN', 'HRV',\n",
       "       'HRS', 'SalesP', 'Supportc', 'HRx', 'EngineeringP', 'HRc',\n",
       "       'MarketingP', 'MarketingA'], dtype=object)"
      ]
     },
     "execution_count": 471,
     "metadata": {},
     "output_type": "execute_result"
    }
   ],
   "source": [
    "df['Department'].unique()"
   ]
  },
  {
   "cell_type": "code",
   "execution_count": 472,
   "id": "5f18e042-38e2-4845-b440-0d04223bf1fc",
   "metadata": {},
   "outputs": [
    {
     "data": {
      "text/html": [
       "<div>\n",
       "<style scoped>\n",
       "    .dataframe tbody tr th:only-of-type {\n",
       "        vertical-align: middle;\n",
       "    }\n",
       "\n",
       "    .dataframe tbody tr th {\n",
       "        vertical-align: top;\n",
       "    }\n",
       "\n",
       "    .dataframe thead th {\n",
       "        text-align: right;\n",
       "    }\n",
       "</style>\n",
       "<table border=\"1\" class=\"dataframe\">\n",
       "  <thead>\n",
       "    <tr style=\"text-align: right;\">\n",
       "      <th></th>\n",
       "      <th>Name</th>\n",
       "      <th>Age</th>\n",
       "      <th>Email</th>\n",
       "      <th>Join Date</th>\n",
       "      <th>Salary</th>\n",
       "      <th>Department</th>\n",
       "    </tr>\n",
       "  </thead>\n",
       "  <tbody>\n",
       "    <tr>\n",
       "      <th>0</th>\n",
       "      <td>Hunter Thomas</td>\n",
       "      <td>25.0</td>\n",
       "      <td>xlopez@hotmail.com</td>\n",
       "      <td>NaN</td>\n",
       "      <td>88552.0</td>\n",
       "      <td>Sales</td>\n",
       "    </tr>\n",
       "    <tr>\n",
       "      <th>1</th>\n",
       "      <td>Jeremy Irwin</td>\n",
       "      <td>90.0</td>\n",
       "      <td>Jillian Jenkins</td>\n",
       "      <td>2022-07-07</td>\n",
       "      <td>139227.0</td>\n",
       "      <td>NaN</td>\n",
       "    </tr>\n",
       "    <tr>\n",
       "      <th>2</th>\n",
       "      <td>Jennifer Hammondquickly</td>\n",
       "      <td>66.0</td>\n",
       "      <td>jscottgreen.biz</td>\n",
       "      <td>2023-11-21</td>\n",
       "      <td>65550.0</td>\n",
       "      <td>Engineering</td>\n",
       "    </tr>\n",
       "    <tr>\n",
       "      <th>3</th>\n",
       "      <td>Sydney Taylorso</td>\n",
       "      <td>39.0</td>\n",
       "      <td>luke56gonzalez.com</td>\n",
       "      <td>2021-11-05</td>\n",
       "      <td>139932.0</td>\n",
       "      <td>SupportJ</td>\n",
       "    </tr>\n",
       "    <tr>\n",
       "      <th>4</th>\n",
       "      <td>Julia Lee</td>\n",
       "      <td>71.0</td>\n",
       "      <td>figueroakayla@yahoo.com</td>\n",
       "      <td>NaN</td>\n",
       "      <td>143456.0</td>\n",
       "      <td>Marketing</td>\n",
       "    </tr>\n",
       "  </tbody>\n",
       "</table>\n",
       "</div>"
      ],
      "text/plain": [
       "                      Name   Age                    Email   Join Date  \\\n",
       "0            Hunter Thomas  25.0       xlopez@hotmail.com         NaN   \n",
       "1             Jeremy Irwin  90.0          Jillian Jenkins  2022-07-07   \n",
       "2  Jennifer Hammondquickly  66.0          jscottgreen.biz  2023-11-21   \n",
       "3          Sydney Taylorso  39.0       luke56gonzalez.com  2021-11-05   \n",
       "4                Julia Lee  71.0  figueroakayla@yahoo.com         NaN   \n",
       "\n",
       "     Salary   Department  \n",
       "0   88552.0        Sales  \n",
       "1  139227.0          NaN  \n",
       "2   65550.0  Engineering  \n",
       "3  139932.0     SupportJ  \n",
       "4  143456.0    Marketing  "
      ]
     },
     "execution_count": 472,
     "metadata": {},
     "output_type": "execute_result"
    }
   ],
   "source": [
    "# Drop both Unnamed and ID columnn because it is irrelevant for analysis\n",
    "df.drop(['ID','Unnamed: 0'],axis=1,inplace=True)\n",
    "df.head()"
   ]
  },
  {
   "cell_type": "markdown",
   "id": "b5541724-e908-48bc-86fb-b371c2b625b1",
   "metadata": {},
   "source": [
    "### Data Quality Issues Identified: \n",
    "\n",
    "1. Missing values in all columns.     \n",
    "2. Duplicates identified.          \n",
    "3. Invalid Email formats found.        \n",
    "4. Irregular name formats.                        \n",
    "5. Inconsistent date formats in 'Join Date' column.             \n",
    "6. Inconsistent department names.        \n",
    "7. Salary values with noise.        \r\n"
   ]
  },
  {
   "cell_type": "markdown",
   "id": "1b820abd-5563-4126-b591-e77329b9d6d5",
   "metadata": {},
   "source": [
    "### **1.Handling missing values**"
   ]
  },
  {
   "cell_type": "code",
   "execution_count": 475,
   "id": "e4d937a6-3ee3-48e3-9182-bf8d7d7427d1",
   "metadata": {},
   "outputs": [
    {
     "data": {
      "text/plain": [
       "Name          0\n",
       "Age           0\n",
       "Email         0\n",
       "Join Date     0\n",
       "Salary        0\n",
       "Department    0\n",
       "dtype: int64"
      ]
     },
     "execution_count": 475,
     "metadata": {},
     "output_type": "execute_result"
    }
   ],
   "source": [
    "# Percentage of missing values in each columns are lessthan 30.so we can fill them by using mean,mode or meadia\n",
    "# use mean to fill numeric columns and use mode for categorical columns\n",
    "\n",
    "numeric_col=['Age','Salary']\n",
    "categoric_col=['Name','Email','Join Date','Department']\n",
    "\n",
    "for col in numeric_col:\n",
    "    df[col]=df[col].fillna(df[col].median())\n",
    "\n",
    "for col in categoric_col:\n",
    "    df[col]=df[col].fillna(df[col].mode()[0])\n",
    "\n",
    "df.isnull().sum()\n"
   ]
  },
  {
   "cell_type": "markdown",
   "id": "cf276692-ac64-4aa8-9b49-b5e707ebca76",
   "metadata": {},
   "source": [
    "### **2.Remove duplicates**"
   ]
  },
  {
   "cell_type": "code",
   "execution_count": 477,
   "id": "42f60b9b-5351-47d8-ac65-1e746866f252",
   "metadata": {},
   "outputs": [
    {
     "data": {
      "text/plain": [
       "0"
      ]
     },
     "execution_count": 477,
     "metadata": {},
     "output_type": "execute_result"
    }
   ],
   "source": [
    "df.drop_duplicates(inplace=True)\n",
    "\n",
    "df.duplicated().sum()"
   ]
  },
  {
   "cell_type": "markdown",
   "id": "ec751091-9fc9-4f26-9850-9b9234cc2218",
   "metadata": {},
   "source": [
    "### **3.Correct Email formats**"
   ]
  },
  {
   "cell_type": "code",
   "execution_count": 479,
   "id": "50c8e3ff-7c77-4036-82ca-f9fb7ab0744c",
   "metadata": {},
   "outputs": [
    {
     "name": "stdout",
     "output_type": "stream",
     "text": [
      "0                  xlopez@hotmail.com\n",
      "4             figueroakayla@yahoo.com\n",
      "5        milleryvonne@fowler-york.com\n",
      "8                andrew74@hotmail.com\n",
      "9            denisemaynard@jordan.com\n",
      "                     ...             \n",
      "10991             jpatterson@wise.org\n",
      "10992         kingcharles@hotmail.com\n",
      "10994         cheryllewis@hotmail.com\n",
      "10997       robert96@pollard-frye.com\n",
      "10998              roypark@warren.net\n",
      "Name: Email, Length: 7208, dtype: object\n"
     ]
    }
   ],
   "source": [
    "import re\n",
    "# Function to check if email is valid\n",
    "def is_valid_Email(Email):\n",
    "    if pd.isnull(Email): \n",
    "        return False\n",
    "    regex = r'^[a-zA-Z0-9_.+-]+@[a-zA-Z0-9-]+\\.[a-zA-Z0-9-.]+$'\n",
    "    return bool(re.match(regex, Email))\n",
    "\n",
    "df['Email'] = df['Email'].apply(lambda x: x if is_valid_Email(x) else None)\n",
    "\n",
    "df.dropna(subset=['Email'], inplace=True)\n",
    "\n",
    "print(df['Email'])\n"
   ]
  },
  {
   "cell_type": "markdown",
   "id": "f7304c33-c56d-4c25-97a6-f56a1e07807c",
   "metadata": {},
   "source": [
    "### **4.Clean name fields**"
   ]
  },
  {
   "cell_type": "code",
   "execution_count": 481,
   "id": "095129fe-22c7-4df2-a9a7-e2767e60b312",
   "metadata": {},
   "outputs": [
    {
     "name": "stdout",
     "output_type": "stream",
     "text": [
      "0                Hunter Thomas\n",
      "4                    Julia Lee\n",
      "5                  Lisa Bailey\n",
      "8           Elizabeth Williams\n",
      "9                   Jay Fisher\n",
      "                 ...          \n",
      "10991    Jeffrey Elliottnation\n",
      "10992       Elizabeth Williams\n",
      "10994              Karen Wells\n",
      "10997       Stephanie Riossell\n",
      "10998           Bonnie Benitez\n",
      "Name: Name, Length: 7208, dtype: object\n"
     ]
    }
   ],
   "source": [
    "# Remove extraneous characters and standardize names\n",
    "df['Name'] = df['Name'].str.replace(r'[^a-zA-Z ]', '', regex=True)\n",
    "df['Name'] = df['Name'].str.strip().str.title()  \n",
    "\n",
    "print(df['Name'])"
   ]
  },
  {
   "cell_type": "markdown",
   "id": "14b8d4c7-4121-4cf8-83d6-81fabdefd53b",
   "metadata": {},
   "source": [
    "### **5.Standerdise date formats**"
   ]
  },
  {
   "cell_type": "code",
   "execution_count": 483,
   "id": "23af0e1f-10d3-4875-bcc8-1b1b3f494b90",
   "metadata": {},
   "outputs": [
    {
     "name": "stdout",
     "output_type": "stream",
     "text": [
      "0        2022-03-31\n",
      "4        2022-03-31\n",
      "8        2022-02-12\n",
      "9        2022-12-08\n",
      "10       2022-03-31\n",
      "            ...    \n",
      "10990    2020-06-11\n",
      "10991    2021-08-05\n",
      "10992    2020-11-28\n",
      "10994    2022-03-31\n",
      "10998    2020-10-09\n",
      "Name: Join Date, Length: 5834, dtype: object\n"
     ]
    }
   ],
   "source": [
    "df['Join Date'] = pd.to_datetime(df['Join Date'], errors='coerce').dt.strftime('%Y-%m-%d')\n",
    "\n",
    "df = df.dropna(subset=['Join Date'])\n",
    "\n",
    "print(df['Join Date'])"
   ]
  },
  {
   "cell_type": "code",
   "execution_count": 484,
   "id": "6c68b9bf-dd9d-4bc0-8e7c-610e3a10916b",
   "metadata": {},
   "outputs": [
    {
     "data": {
      "text/html": [
       "<div>\n",
       "<style scoped>\n",
       "    .dataframe tbody tr th:only-of-type {\n",
       "        vertical-align: middle;\n",
       "    }\n",
       "\n",
       "    .dataframe tbody tr th {\n",
       "        vertical-align: top;\n",
       "    }\n",
       "\n",
       "    .dataframe thead th {\n",
       "        text-align: right;\n",
       "    }\n",
       "</style>\n",
       "<table border=\"1\" class=\"dataframe\">\n",
       "  <thead>\n",
       "    <tr style=\"text-align: right;\">\n",
       "      <th></th>\n",
       "      <th>Name</th>\n",
       "      <th>Age</th>\n",
       "      <th>Email</th>\n",
       "      <th>Join Date</th>\n",
       "      <th>Salary</th>\n",
       "      <th>Department</th>\n",
       "    </tr>\n",
       "  </thead>\n",
       "  <tbody>\n",
       "    <tr>\n",
       "      <th>0</th>\n",
       "      <td>Hunter Thomas</td>\n",
       "      <td>25.0</td>\n",
       "      <td>xlopez@hotmail.com</td>\n",
       "      <td>2022-03-31</td>\n",
       "      <td>88552.0</td>\n",
       "      <td>Sales</td>\n",
       "    </tr>\n",
       "    <tr>\n",
       "      <th>4</th>\n",
       "      <td>Julia Lee</td>\n",
       "      <td>71.0</td>\n",
       "      <td>figueroakayla@yahoo.com</td>\n",
       "      <td>2022-03-31</td>\n",
       "      <td>143456.0</td>\n",
       "      <td>Marketing</td>\n",
       "    </tr>\n",
       "  </tbody>\n",
       "</table>\n",
       "</div>"
      ],
      "text/plain": [
       "            Name   Age                    Email   Join Date    Salary  \\\n",
       "0  Hunter Thomas  25.0       xlopez@hotmail.com  2022-03-31   88552.0   \n",
       "4      Julia Lee  71.0  figueroakayla@yahoo.com  2022-03-31  143456.0   \n",
       "\n",
       "  Department  \n",
       "0      Sales  \n",
       "4  Marketing  "
      ]
     },
     "execution_count": 484,
     "metadata": {},
     "output_type": "execute_result"
    }
   ],
   "source": [
    "df.head(2)"
   ]
  },
  {
   "cell_type": "markdown",
   "id": "d8087f8c-70b3-4258-9872-cf48c4fc88de",
   "metadata": {},
   "source": [
    "### **6.Correct department names**"
   ]
  },
  {
   "cell_type": "code",
   "execution_count": 486,
   "id": "fd465298-a6d9-44e9-9519-c40b32555549",
   "metadata": {},
   "outputs": [
    {
     "data": {
      "text/plain": [
       "array(['Sales', 'Marketing', 'HR', 'Engineering', 'SalesA', 'Support',\n",
       "       'MarketingR', 'Salesw', 'SalesK', 'MarketingU', 'EngineeringL',\n",
       "       'HRs', 'Supportj', 'Salesd', 'SalesZ', 'Engineeringe',\n",
       "       'Marketingr', 'Engineeringm', 'HRt', 'Saleso', 'SalesW',\n",
       "       'Engineeringp', 'HRF', 'HRv', 'SalesC', 'SupportC', 'SalesY',\n",
       "       'EngineeringK', 'Marketingz', 'SalesN', 'SupportB', 'HRi',\n",
       "       'Salest', 'Supportg', 'Supporta', 'HRn', 'SupportQ', 'Supportm',\n",
       "       'EngineeringH', 'Marketinge', 'Marketingw', 'EngineeringM',\n",
       "       'Supportz', 'HRr', 'MarketingD', 'HRE', 'Supportu', 'HRw',\n",
       "       'Supportk', 'MarketingN', 'SupportS', 'EngineeringD', 'Salesl',\n",
       "       'Salesr', 'MarketingO', 'SalesF', 'Salesz', 'Marketingt',\n",
       "       'Engineeringv', 'HRL', 'HRI', 'HRD', 'Marketingk', 'Engineeringi',\n",
       "       'Salesn', 'Engineeringl', 'SalesE', 'HRy', 'SalesD', 'HRm', 'HRz',\n",
       "       'MarketingG', 'Marketingn', 'Engineeringg', 'MarketingE',\n",
       "       'SupportA', 'Engineeringq', 'EngineeringQ', 'Supporte',\n",
       "       'Engineeringu', 'EngineeringO', 'Supportv', 'HRK', 'Engineeringb',\n",
       "       'SalesV', 'HRT', 'SupportY', 'Supporto', 'Salesj', 'MarketingX',\n",
       "       'MarketingQ', 'Salesy', 'HRU', 'HRp', 'HRg', 'SalesS', 'HRo',\n",
       "       'Engineeringt', 'EngineeringX', 'Engineeringc', 'Marketingh',\n",
       "       'MarketingF', 'EngineeringC', 'HRP', 'Salesv', 'Engineeringk',\n",
       "       'SupportH', 'HRW', 'Salesk', 'Supporth', 'Supportq', 'Salesi',\n",
       "       'HRZ', 'SupportJ', 'Marketingl', 'MarketingZ', 'Salesc',\n",
       "       'Engineeringx', 'EngineeringT', 'Salesq', 'Engineeringh',\n",
       "       'Supportl', 'Supportp', 'SupportX', 'EngineeringG', 'SalesH',\n",
       "       'MarketingC', 'SupportV', 'Marketingb', 'Supporti', 'HRM',\n",
       "       'Supportt', 'EngineeringE', 'SupportP', 'HRf', 'MarketingB', 'HRJ',\n",
       "       'Engineeringf', 'Marketinga', 'SalesM', 'SupportI', 'HRA',\n",
       "       'Marketingj', 'MarketingV', 'HRl', 'Engineeringj', 'Marketingi',\n",
       "       'Marketingm', 'Supportw', 'HRh', 'Engineerings', 'Supportb',\n",
       "       'SalesB', 'SupportL', 'Marketingf', 'Marketingg', 'SupportK',\n",
       "       'Engineeringd', 'HRN', 'HRk', 'SalesR', 'MarketingS', 'MarketingL',\n",
       "       'MarketingT', 'HRR', 'Engineeringw', 'Salesg', 'HRB',\n",
       "       'Engineeringz', 'HRj', 'EngineeringV', 'HRb', 'Saless', 'SupportN',\n",
       "       'SupportO', 'SalesX', 'EngineeringZ', 'SupportG', 'Marketingc',\n",
       "       'EngineeringU', 'MarketingJ', 'Supportx', 'HRY', 'Salesp', 'HRH',\n",
       "       'HRX', 'MarketingK', 'SalesL', 'Marketingq', 'SupportD', 'Salesu',\n",
       "       'SalesT', 'Supports', 'HRQ', 'Supportr', 'Engineeringr',\n",
       "       'EngineeringW', 'Salesm', 'HRC', 'HRe', 'SupportW', 'EngineeringI',\n",
       "       'Marketingy', 'MarketingM', 'MarketingI', 'EngineeringF', 'SalesU',\n",
       "       'EngineeringJ', 'Engineeringa', 'SupportU', 'Salesa', 'Supportn',\n",
       "       'Salesf', 'SupportF', 'MarketingY', 'HRd', 'HRu', 'Salesh',\n",
       "       'SalesI', 'SupportM', 'SupportE', 'MarketingH', 'Marketingx',\n",
       "       'EngineeringN', 'HRV', 'HRa', 'Salese', 'HRG', 'SalesP',\n",
       "       'EngineeringR', 'Marketingv', 'HRx', 'Engineeringn',\n",
       "       'EngineeringS', 'EngineeringP', 'Engineeringy', 'SalesO',\n",
       "       'Marketingd', 'SalesJ', 'HRS', 'SupportT', 'Supportc', 'HRq',\n",
       "       'Marketings', 'Marketingp', 'SupportR', 'MarketingW', 'Supporty',\n",
       "       'HRO', 'HRc', 'EngineeringA', 'Supportf', 'Marketingu', 'SupportZ',\n",
       "       'SalesG', 'EngineeringB', 'SalesQ', 'Salesb', 'Supportd',\n",
       "       'Engineeringo'], dtype=object)"
      ]
     },
     "execution_count": 486,
     "metadata": {},
     "output_type": "execute_result"
    }
   ],
   "source": [
    "df['Department'].unique()"
   ]
  },
  {
   "cell_type": "code",
   "execution_count": 487,
   "id": "5639b8fc-cef0-4683-9c98-16c31262c2cf",
   "metadata": {},
   "outputs": [
    {
     "name": "stdout",
     "output_type": "stream",
     "text": [
      "Requirement already satisfied: fuzzywuzzy in c:\\users\\leoir\\anaconda3\\lib\\site-packages (0.18.0)\n",
      "Note: you may need to restart the kernel to use updated packages.\n"
     ]
    }
   ],
   "source": [
    "pip install fuzzywuzzy"
   ]
  },
  {
   "cell_type": "code",
   "execution_count": 488,
   "id": "8fc6861a-0b4a-4612-b2bb-8e337b40a230",
   "metadata": {},
   "outputs": [
    {
     "name": "stdout",
     "output_type": "stream",
     "text": [
      "['Sales' 'Marketing' 'HR' 'Engineering' 'Support']\n"
     ]
    }
   ],
   "source": [
    "# Replace common typos and standardize department names\n",
    "from fuzzywuzzy import process\n",
    "\n",
    "expected_departments = ['Sales', 'Marketing', 'HR', 'Engineering', 'Support']\n",
    "\n",
    "# Function to correct department names\n",
    "def correct_department(department_name):\n",
    "    best_match = process.extractOne(department_name, expected_departments)[0]\n",
    "    return best_match\n",
    "\n",
    "# Apply the correction function to the 'Department' column\n",
    "df['Department'] = df['Department'].apply(correct_department)\n",
    "\n",
    "# Check unique corrected department names\n",
    "print(df['Department'].unique())\n",
    "\n"
   ]
  },
  {
   "cell_type": "code",
   "execution_count": 489,
   "id": "76dadd98-b4c2-43a0-91e5-3f57eb2afab8",
   "metadata": {},
   "outputs": [
    {
     "data": {
      "text/plain": [
       "Department\n",
       "Support        1652\n",
       "Sales          1070\n",
       "Marketing      1063\n",
       "Engineering    1032\n",
       "HR             1017\n",
       "Name: count, dtype: int64"
      ]
     },
     "execution_count": 489,
     "metadata": {},
     "output_type": "execute_result"
    }
   ],
   "source": [
    "df['Department'].value_counts()"
   ]
  },
  {
   "cell_type": "markdown",
   "id": "18c3b4fd-4f24-4d30-9864-2bc8785de7b9",
   "metadata": {},
   "source": [
    "### **7.Handle Salary Noise**"
   ]
  },
  {
   "cell_type": "code",
   "execution_count": 491,
   "id": "fb228b4f-dea0-4556-8855-64b47494f89a",
   "metadata": {},
   "outputs": [
    {
     "data": {
      "text/plain": [
       "count      5834.000000\n",
       "mean      89970.263839\n",
       "std       33035.358354\n",
       "min       26233.921419\n",
       "25%       63467.331343\n",
       "50%       89241.000000\n",
       "75%      116345.954860\n",
       "max      176156.206747\n",
       "Name: Salary, dtype: float64"
      ]
     },
     "execution_count": 491,
     "metadata": {},
     "output_type": "execute_result"
    }
   ],
   "source": [
    "# check basic statistics of salary\n",
    "\n",
    "df['Salary'].describe()"
   ]
  },
  {
   "cell_type": "code",
   "execution_count": 492,
   "id": "543f760a-5493-48c4-b30e-eb00d821dee5",
   "metadata": {},
   "outputs": [
    {
     "data": {
      "text/plain": [
       "89241.0"
      ]
     },
     "execution_count": 492,
     "metadata": {},
     "output_type": "execute_result"
    }
   ],
   "source": [
    "df['Salary'].median()"
   ]
  },
  {
   "cell_type": "code",
   "execution_count": 493,
   "id": "02b5de7d-9e9c-40f4-8f68-5a8e7f85335f",
   "metadata": {},
   "outputs": [
    {
     "data": {
      "image/png": "[encoded data removed]",
      "text/plain": [
       "<Figure size 800x600 with 1 Axes>"
      ]
     },
     "metadata": {},
     "output_type": "display_data"
    },
    {
     "data": {
      "image/png": "[encoded data removed]",
      "text/plain": [
       "<Figure size 800x600 with 1 Axes>"
      ]
     },
     "metadata": {},
     "output_type": "display_data"
    }
   ],
   "source": [
    "import matplotlib.pyplot as plt\n",
    "import seaborn as sns\n",
    "\n",
    "# Visualize the salary distribution using a histogram\n",
    "plt.figure(figsize=(8, 6))\n",
    "sns.histplot(df['Salary'], bins=50, kde=True)\n",
    "plt.title('Salary Distribution')\n",
    "plt.show()\n",
    "\n",
    "# use a box plot to identify outliers\n",
    "plt.figure(figsize=(8, 6))\n",
    "sns.boxplot(df['Salary'])\n",
    "plt.title('Salary Box Plot')\n",
    "plt.show()\n"
   ]
  },
  {
   "cell_type": "code",
   "execution_count": 494,
   "id": "d596a661-8549-4178-be16-805c43d155e5",
   "metadata": {},
   "outputs": [
    {
     "name": "stdout",
     "output_type": "stream",
     "text": [
      "lower_bound: -15850.60393309439\n",
      "upper_bound: 195663.89013609258\n"
     ]
    }
   ],
   "source": [
    "Q1 = df['Salary'].quantile(0.25)  # First quartile (25th percentile)\n",
    "Q3 = df['Salary'].quantile(0.75)  # Third quartile (75th percentile)\n",
    "IQR = Q3 - Q1  # Interquartile range\n",
    "\n",
    "# Define the lower and upper bounds\n",
    "lower_bound = Q1-1.5 * IQR\n",
    "upper_bound = Q3 + 1.5 * IQR\n",
    "print('lower_bound:', lower_bound)\n",
    "print('upper_bound:', upper_bound)"
   ]
  },
  {
   "cell_type": "code",
   "execution_count": 495,
   "id": "ef30038f-aed3-4def-ab0b-23fa7a444dce",
   "metadata": {},
   "outputs": [],
   "source": [
    "# above lower bound is negative,to solve ths use winsorization method then find lower bound"
   ]
  },
  {
   "cell_type": "code",
   "execution_count": 534,
   "id": "db2968cd-ed48-4bdb-bf56-8e85e79e4022",
   "metadata": {
    "scrolled": true
   },
   "outputs": [
    {
     "name": "stdout",
     "output_type": "stream",
     "text": [
      "Cleaned Salary Statistics:\n",
      "count      5610.000000\n",
      "mean      92198.160739\n",
      "std       31352.448876\n",
      "min       36390.000000\n",
      "25%       67042.000000\n",
      "50%       89241.000000\n",
      "75%      117642.000000\n",
      "max      149906.238427\n",
      "Name: Salary, dtype: float64\n"
     ]
    },
    {
     "name": "stderr",
     "output_type": "stream",
     "text": [
      "C:\\Users\\leoir\\anaconda3\\Lib\\site-packages\\numpy\\lib\\function_base.py:4824: UserWarning: Warning: 'partition' will ignore the 'mask' of the MaskedArray.\n",
      "  arr.partition(\n",
      "C:\\Users\\leoir\\anaconda3\\Lib\\site-packages\\numpy\\lib\\function_base.py:4824: UserWarning: Warning: 'partition' will ignore the 'mask' of the MaskedArray.\n",
      "  arr.partition(\n",
      "C:\\Users\\leoir\\anaconda3\\Lib\\site-packages\\numpy\\lib\\function_base.py:4824: UserWarning: Warning: 'partition' will ignore the 'mask' of the MaskedArray.\n",
      "  arr.partition(\n"
     ]
    }
   ],
   "source": [
    "import scipy.stats as stats\n",
    "\n",
    "salary_array=df['Salary'].to_numpy()\n",
    "df['Salary'] = stats.mstats.winsorize(salary_array, limits=[0.01, 0.01])\n",
    "\n",
    "#df['Salary']=pd.DataFrame(df['Salary'])\n",
    "\n",
    "# Impute placeholder values with the median salary\n",
    "median_salary = df['Salary'].median()\n",
    "df['Salary'] = df['Salary'].replace(100000, median_salary)\n",
    "\n",
    "# Recalculate IQR\n",
    "Q1 = df['Salary'].quantile(0.25)\n",
    "Q3 = df['Salary'].quantile(0.75)\n",
    "IQR = Q3 - Q1\n",
    "\n",
    "# Define upper bound\n",
    "upper_bound = Q3 + 1.5 * IQR\n",
    "\n",
    "# Define lower bound, ensuring it's not below a reasonable minimum \n",
    "lower_bound = max(Q1 - 1.5 * IQR, 30000)\n",
    "\n",
    "# Remove outliers based on the new bounds\n",
    "df = df[(df['Salary'] >= lower_bound) & (df['Salary'] <= upper_bound)]\n",
    "\n",
    "# Display cleaned salary statistics\n",
    "print(\"Cleaned Salary Statistics:\")\n",
    "print(df['Salary'].describe())\n"
   ]
  },
  {
   "cell_type": "code",
   "execution_count": 536,
   "id": "ff3b10fe-f1a1-40e3-a379-360594258e62",
   "metadata": {},
   "outputs": [
    {
     "data": {
      "image/png": "[encoded data removed]",
      "text/plain": [
       "<Figure size 640x480 with 1 Axes>"
      ]
     },
     "metadata": {},
     "output_type": "display_data"
    },
    {
     "data": {
      "image/png": "[encoded data removed]",
      "text/plain": [
       "<Figure size 640x480 with 1 Axes>"
      ]
     },
     "metadata": {},
     "output_type": "display_data"
    }
   ],
   "source": [
    "# Replot the box plot\n",
    "sns.boxplot(df['Salary'])\n",
    "plt.title('Updated Salary Box Plot')\n",
    "plt.show()\n",
    "\n",
    "# Replot the histogram\n",
    "sns.histplot(df['Salary'], kde=True)\n",
    "plt.title('Updated Salary Distribution')\n",
    "plt.show()\n"
   ]
  },
  {
   "cell_type": "code",
   "execution_count": 498,
   "id": "7b638fe0-71c1-4704-a793-f0d266511a5a",
   "metadata": {},
   "outputs": [
    {
     "data": {
      "text/html": [
       "<div>\n",
       "<style scoped>\n",
       "    .dataframe tbody tr th:only-of-type {\n",
       "        vertical-align: middle;\n",
       "    }\n",
       "\n",
       "    .dataframe tbody tr th {\n",
       "        vertical-align: top;\n",
       "    }\n",
       "\n",
       "    .dataframe thead th {\n",
       "        text-align: right;\n",
       "    }\n",
       "</style>\n",
       "<table border=\"1\" class=\"dataframe\">\n",
       "  <thead>\n",
       "    <tr style=\"text-align: right;\">\n",
       "      <th></th>\n",
       "      <th>Name</th>\n",
       "      <th>Age</th>\n",
       "      <th>Email</th>\n",
       "      <th>Join Date</th>\n",
       "      <th>Salary</th>\n",
       "      <th>Department</th>\n",
       "    </tr>\n",
       "  </thead>\n",
       "  <tbody>\n",
       "    <tr>\n",
       "      <th>0</th>\n",
       "      <td>Hunter Thomas</td>\n",
       "      <td>25.0</td>\n",
       "      <td>xlopez@hotmail.com</td>\n",
       "      <td>2022-03-31</td>\n",
       "      <td>88552.000000</td>\n",
       "      <td>Sales</td>\n",
       "    </tr>\n",
       "    <tr>\n",
       "      <th>1</th>\n",
       "      <td>Julia Lee</td>\n",
       "      <td>71.0</td>\n",
       "      <td>figueroakayla@yahoo.com</td>\n",
       "      <td>2022-03-31</td>\n",
       "      <td>143456.000000</td>\n",
       "      <td>Marketing</td>\n",
       "    </tr>\n",
       "    <tr>\n",
       "      <th>2</th>\n",
       "      <td>Elizabeth Williams</td>\n",
       "      <td>71.0</td>\n",
       "      <td>andrew74@hotmail.com</td>\n",
       "      <td>2022-02-12</td>\n",
       "      <td>83354.000000</td>\n",
       "      <td>Sales</td>\n",
       "    </tr>\n",
       "    <tr>\n",
       "      <th>3</th>\n",
       "      <td>Jay Fisher</td>\n",
       "      <td>44.0</td>\n",
       "      <td>denisemaynard@jordan.com</td>\n",
       "      <td>2022-12-08</td>\n",
       "      <td>37701.725993</td>\n",
       "      <td>HR</td>\n",
       "    </tr>\n",
       "    <tr>\n",
       "      <th>4</th>\n",
       "      <td>Craig Conway</td>\n",
       "      <td>88.0</td>\n",
       "      <td>gerald47@woodard-smith.com</td>\n",
       "      <td>2022-03-31</td>\n",
       "      <td>81214.525972</td>\n",
       "      <td>Engineering</td>\n",
       "    </tr>\n",
       "  </tbody>\n",
       "</table>\n",
       "</div>"
      ],
      "text/plain": [
       "                 Name   Age                       Email   Join Date  \\\n",
       "0       Hunter Thomas  25.0          xlopez@hotmail.com  2022-03-31   \n",
       "1           Julia Lee  71.0     figueroakayla@yahoo.com  2022-03-31   \n",
       "2  Elizabeth Williams  71.0        andrew74@hotmail.com  2022-02-12   \n",
       "3          Jay Fisher  44.0    denisemaynard@jordan.com  2022-12-08   \n",
       "4        Craig Conway  88.0  gerald47@woodard-smith.com  2022-03-31   \n",
       "\n",
       "          Salary   Department  \n",
       "0   88552.000000        Sales  \n",
       "1  143456.000000    Marketing  \n",
       "2   83354.000000        Sales  \n",
       "3   37701.725993           HR  \n",
       "4   81214.525972  Engineering  "
      ]
     },
     "execution_count": 498,
     "metadata": {},
     "output_type": "execute_result"
    }
   ],
   "source": [
    "df.reset_index(drop=True, inplace=True)\n",
    "df.head()"
   ]
  },
  {
   "cell_type": "code",
   "execution_count": 499,
   "id": "eb9d6b85-5139-4e7c-b6c9-835b35e94f17",
   "metadata": {},
   "outputs": [
    {
     "name": "stdout",
     "output_type": "stream",
     "text": [
      "Cleaned dataset has been saved as 'cleaned_dataset.csv'.\n"
     ]
    }
   ],
   "source": [
    "df.to_csv('cleaned_dataset.csv', index=False)\n",
    "\n",
    "print(\"Cleaned dataset has been saved as 'cleaned_dataset.csv'.\")"
   ]
  }
 ],
 "metadata": {
  "kernelspec": {
   "display_name": "Python 3 (ipykernel)",
   "language": "python",
   "name": "python3"
  },
  "language_info": {
   "codemirror_mode": {
    "name": "ipython",
    "version": 3
   },
   "file_extension": ".py",
   "mimetype": "text/x-python",
   "name": "python",
   "nbconvert_exporter": "python",
   "pygments_lexer": "ipython3",
   "version": "3.12.4"
  }
 },
 "nbformat": 4,
 "nbformat_minor": 5
}
